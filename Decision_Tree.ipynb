{
  "nbformat": 4,
  "nbformat_minor": 0,
  "metadata": {
    "colab": {
      "provenance": [],
      "authorship_tag": "ABX9TyNCD1XAT+jG8Zkir0uhBoKd",
      "include_colab_link": true
    },
    "kernelspec": {
      "name": "python3",
      "display_name": "Python 3"
    },
    "language_info": {
      "name": "python"
    }
  },
  "cells": [
    {
      "cell_type": "markdown",
      "metadata": {
        "id": "view-in-github",
        "colab_type": "text"
      },
      "source": [
        "<a href=\"https://colab.research.google.com/github/tuntunwinkic/ML_Specialization/blob/main/Decision_Tree.ipynb\" target=\"_parent\"><img src=\"https://colab.research.google.com/assets/colab-badge.svg\" alt=\"Open In Colab\"/></a>"
      ]
    },
    {
      "cell_type": "code",
      "execution_count": null,
      "metadata": {
        "id": "5wGs1k_nktXw"
      },
      "outputs": [],
      "source": [
        "import pandas as pd\n",
        "import numpy as np\n",
        "import matplotlib.pyplot as plt"
      ]
    },
    {
      "cell_type": "code",
      "source": [],
      "metadata": {
        "id": "TAOAXajfQuni"
      },
      "execution_count": null,
      "outputs": []
    },
    {
      "cell_type": "code",
      "source": [
        "X_train = np.array([[1, 1, 1],\n",
        "[0, 0, 1],\n",
        " [0, 1, 0],\n",
        " [1, 0, 1],\n",
        " [1, 1, 1],\n",
        " [1, 1, 0],\n",
        " [0, 0, 0],\n",
        " [1, 1, 0],\n",
        " [0, 1, 0],\n",
        " [0, 1, 0]])\n",
        "\n",
        "y_train = np.array([1, 1, 0, 0, 1, 1, 0, 1, 0, 0])"
      ],
      "metadata": {
        "id": "8ASpgGlMkzR8"
      },
      "execution_count": null,
      "outputs": []
    },
    {
      "cell_type": "code",
      "source": [
        "X_train[0]"
      ],
      "metadata": {
        "colab": {
          "base_uri": "https://localhost:8080/"
        },
        "id": "q6FTgWBTk3Kj",
        "outputId": "474fd77b-8295-4985-96ac-0b30eacc2f83"
      },
      "execution_count": null,
      "outputs": [
        {
          "output_type": "execute_result",
          "data": {
            "text/plain": [
              "array([1, 1, 1])"
            ]
          },
          "metadata": {},
          "execution_count": 46
        }
      ]
    },
    {
      "cell_type": "code",
      "source": [
        "def entropy(p):\n",
        "    if p == 0 or p == 1:\n",
        "        return 0\n",
        "    else:\n",
        "        return -p * np.log2(p) - (1- p)*np.log2(1 - p)\n",
        "\n"
      ],
      "metadata": {
        "id": "g8hLYLhik57e"
      },
      "execution_count": null,
      "outputs": []
    },
    {
      "cell_type": "code",
      "source": [
        "print(entropy(0.5))"
      ],
      "metadata": {
        "colab": {
          "base_uri": "https://localhost:8080/"
        },
        "id": "v9CC61NAk8rW",
        "outputId": "092b35aa-907c-4514-e758-bb1164c09906"
      },
      "execution_count": null,
      "outputs": [
        {
          "output_type": "stream",
          "name": "stdout",
          "text": [
            "1.0\n"
          ]
        }
      ]
    },
    {
      "cell_type": "code",
      "source": [
        "for i,x in enumerate(X_train):\n",
        "  print(i)\n",
        "  print(x)"
      ],
      "metadata": {
        "colab": {
          "base_uri": "https://localhost:8080/"
        },
        "id": "Fmdp_Pb_qtoX",
        "outputId": "a598dad7-126d-4237-fe2f-03fee55ccc53"
      },
      "execution_count": null,
      "outputs": [
        {
          "output_type": "stream",
          "name": "stdout",
          "text": [
            "0\n",
            "[1 1 1]\n",
            "1\n",
            "[0 0 1]\n",
            "2\n",
            "[0 1 0]\n",
            "3\n",
            "[1 0 1]\n",
            "4\n",
            "[1 1 1]\n",
            "5\n",
            "[1 1 0]\n",
            "6\n",
            "[0 0 0]\n",
            "7\n",
            "[1 1 0]\n",
            "8\n",
            "[0 1 0]\n",
            "9\n",
            "[0 1 0]\n"
          ]
        }
      ]
    },
    {
      "cell_type": "code",
      "source": [
        "def split_indices(X, index_feature):\n",
        "    \"\"\"Given a dataset and a index feature, return two lists for the two split nodes, the left node has the animals that have\n",
        "    that feature = 1 and the right node those that have the feature = 0\n",
        "    index feature = 0 => ear shape\n",
        "    index feature = 1 => face shape\n",
        "    index feature = 2 => whiskers\n",
        "    \"\"\"\n",
        "    left_indices = []\n",
        "    right_indices = []\n",
        "    for i,x in enumerate(X):  # i က index number, x က feature array\n",
        "        if x[index_feature] == 1:  # index_feature 0 ထားတာက ပထမဆုံး index သည် ၁ ဖြစ်မဖြစ်စစ်\n",
        "            left_indices.append(i)\n",
        "        else:\n",
        "            right_indices.append(i)\n",
        "    return left_indices, right_indices"
      ],
      "metadata": {
        "id": "g_P_Kgmrk-4e"
      },
      "execution_count": null,
      "outputs": []
    },
    {
      "cell_type": "code",
      "source": [
        "split_indices(X_train, 0)"
      ],
      "metadata": {
        "colab": {
          "base_uri": "https://localhost:8080/"
        },
        "id": "mQojg9zZlDnv",
        "outputId": "1f324d35-a6c8-42f1-a7b0-939c86a25e39"
      },
      "execution_count": null,
      "outputs": [
        {
          "output_type": "execute_result",
          "data": {
            "text/plain": [
              "([0, 3, 4, 5, 7], [1, 2, 6, 8, 9])"
            ]
          },
          "metadata": {},
          "execution_count": 51
        }
      ]
    },
    {
      "cell_type": "code",
      "source": [
        "left_indices, right_indices = split_indices(X_train, 0)\n",
        "\n"
      ],
      "metadata": {
        "id": "86WKqRbxsLpN"
      },
      "execution_count": null,
      "outputs": []
    },
    {
      "cell_type": "code",
      "source": [
        "left_indices"
      ],
      "metadata": {
        "colab": {
          "base_uri": "https://localhost:8080/"
        },
        "id": "sKNp0z5UsSY_",
        "outputId": "b2f32c13-4dcf-4c4e-a46e-ba8e04cfbdd6"
      },
      "execution_count": null,
      "outputs": [
        {
          "output_type": "execute_result",
          "data": {
            "text/plain": [
              "[0, 3, 4, 5, 7]"
            ]
          },
          "metadata": {},
          "execution_count": 53
        }
      ]
    },
    {
      "cell_type": "code",
      "source": [
        "y_train[left_indices] # ytrain ရဲ့ left_indices နေရောတွေမှာ ကြောင်တွေ ရှိလား ခွေးတွေ ရှိလား ၁ ကြောင် ၀ ခွေး"
      ],
      "metadata": {
        "colab": {
          "base_uri": "https://localhost:8080/"
        },
        "id": "PeEnVD9bsdc2",
        "outputId": "583c3090-00f6-4c7b-cbbd-a5cf60892273"
      },
      "execution_count": null,
      "outputs": [
        {
          "output_type": "execute_result",
          "data": {
            "text/plain": [
              "array([1, 1, 0, 1])"
            ]
          },
          "metadata": {},
          "execution_count": 61
        }
      ]
    },
    {
      "cell_type": "code",
      "source": [
        "y_train[[0, 3, 4, 5, 7]]"
      ],
      "metadata": {
        "colab": {
          "base_uri": "https://localhost:8080/"
        },
        "id": "_W2kJd8urtqU",
        "outputId": "a26f47c6-d3de-47e9-9c79-3f933cef816d"
      },
      "execution_count": null,
      "outputs": [
        {
          "output_type": "execute_result",
          "data": {
            "text/plain": [
              "array([1, 0, 1, 1, 1])"
            ]
          },
          "metadata": {},
          "execution_count": 55
        }
      ]
    },
    {
      "cell_type": "code",
      "source": [
        "def weighted_entropy(X,y,left_indices,right_indices):\n",
        "    \"\"\"\n",
        "    This function takes the splitted dataset, the indices we chose to split and returns the weighted entropy.\n",
        "    \"\"\"\n",
        "    w_left = len(left_indices)/len(X)\n",
        "    w_right = len(right_indices)/len(X)\n",
        "    p_left = sum(y[left_indices])/len(left_indices) #  ytrain ရဲ့ left_indices နေရောတွေမှာ ကြောင်တွေ ရှိလား ခွေးတွေ ရှိလား ၁ ကြောင် ၀ ခွေး\n",
        "    p_right = sum(y[right_indices])/len(right_indices)\n",
        "\n",
        "    weighted_entropy = w_left * entropy(p_left) + w_right * entropy(p_right)\n",
        "    return weighted_entropy"
      ],
      "metadata": {
        "id": "5PTkHuDjlFxE"
      },
      "execution_count": null,
      "outputs": []
    },
    {
      "cell_type": "code",
      "source": [
        "left_indices, right_indices = split_indices(X_train, 0)\n",
        "weighted_entropy(X_train, y_train, left_indices, right_indices)"
      ],
      "metadata": {
        "colab": {
          "base_uri": "https://localhost:8080/"
        },
        "id": "igURsk5elIfO",
        "outputId": "9b6f5baf-b2c9-4348-e761-8187fec0f610"
      },
      "execution_count": null,
      "outputs": [
        {
          "output_type": "execute_result",
          "data": {
            "text/plain": [
              "0.7219280948873623"
            ]
          },
          "metadata": {},
          "execution_count": 57
        }
      ]
    },
    {
      "cell_type": "code",
      "source": [
        "def information_gain(X, y, left_indices, right_indices):\n",
        "    \"\"\"\n",
        "    Here, X has the elements in the node and y is theirs respectives classes\n",
        "    \"\"\"\n",
        "    p_node = sum(y)/len(y)\n",
        "    h_node = entropy(p_node)\n",
        "    w_entropy = weighted_entropy(X,y,left_indices,right_indices)\n",
        "    return h_node - w_entropy"
      ],
      "metadata": {
        "id": "ZAU7TwHalK_V"
      },
      "execution_count": null,
      "outputs": []
    },
    {
      "cell_type": "code",
      "source": [
        "information_gain(X_train, y_train, left_indices, right_indices)"
      ],
      "metadata": {
        "colab": {
          "base_uri": "https://localhost:8080/"
        },
        "id": "xogK_ZAVlNlj",
        "outputId": "f61a9cf5-6531-44c4-f798-e7d77fc20f52"
      },
      "execution_count": null,
      "outputs": [
        {
          "output_type": "execute_result",
          "data": {
            "text/plain": [
              "0.2780719051126377"
            ]
          },
          "metadata": {},
          "execution_count": 59
        }
      ]
    },
    {
      "cell_type": "code",
      "source": [
        "for i, feature_name in enumerate(['Ear Shape', 'Face Shape', 'Whiskers']):\n",
        "    left_indices, right_indices = split_indices(X_train, i)\n",
        "    i_gain = information_gain(X_train, y_train, left_indices, right_indices)\n",
        "    print(f\"Feature: {feature_name}, information gain if we split the root node using this feature: {i_gain:.2f}\")\n"
      ],
      "metadata": {
        "colab": {
          "base_uri": "https://localhost:8080/"
        },
        "id": "2dK0x8zrlPQx",
        "outputId": "4d43062e-2ce9-4665-fca7-a6a84707c85c"
      },
      "execution_count": null,
      "outputs": [
        {
          "output_type": "stream",
          "name": "stdout",
          "text": [
            "Feature: Ear Shape, information gain if we split the root node using this feature: 0.28\n",
            "Feature: Face Shape, information gain if we split the root node using this feature: 0.03\n",
            "Feature: Whiskers, information gain if we split the root node using this feature: 0.12\n"
          ]
        }
      ]
    },
    {
      "cell_type": "code",
      "source": [],
      "metadata": {
        "id": "Jr9ZRxc8lSVk"
      },
      "execution_count": null,
      "outputs": []
    }
  ]
}